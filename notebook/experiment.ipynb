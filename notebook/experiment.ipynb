{
 "cells": [
  {
   "cell_type": "code",
   "execution_count": 1,
   "metadata": {},
   "outputs": [
    {
     "data": {
      "text/html": [
       "<div>\n",
       "<style scoped>\n",
       "    .dataframe tbody tr th:only-of-type {\n",
       "        vertical-align: middle;\n",
       "    }\n",
       "\n",
       "    .dataframe tbody tr th {\n",
       "        vertical-align: top;\n",
       "    }\n",
       "\n",
       "    .dataframe thead th {\n",
       "        text-align: right;\n",
       "    }\n",
       "</style>\n",
       "<table border=\"1\" class=\"dataframe\">\n",
       "  <thead>\n",
       "    <tr style=\"text-align: right;\">\n",
       "      <th></th>\n",
       "      <th>User_ID</th>\n",
       "      <th>Age</th>\n",
       "      <th>Gender</th>\n",
       "      <th>Social_Media_Hours</th>\n",
       "      <th>Exercise_Hours</th>\n",
       "      <th>Sleep_Hours</th>\n",
       "      <th>Screen_Time_Hours</th>\n",
       "      <th>Survey_Stress_Score</th>\n",
       "      <th>Wearable_Stress_Score</th>\n",
       "      <th>Support_System</th>\n",
       "      <th>Academic_Performance</th>\n",
       "    </tr>\n",
       "  </thead>\n",
       "  <tbody>\n",
       "    <tr>\n",
       "      <th>0</th>\n",
       "      <td>1</td>\n",
       "      <td>16</td>\n",
       "      <td>F</td>\n",
       "      <td>9.654486</td>\n",
       "      <td>2.458001</td>\n",
       "      <td>5.198926</td>\n",
       "      <td>8.158189</td>\n",
       "      <td>3</td>\n",
       "      <td>0.288962</td>\n",
       "      <td>Moderate</td>\n",
       "      <td>Excellent</td>\n",
       "    </tr>\n",
       "    <tr>\n",
       "      <th>1</th>\n",
       "      <td>2</td>\n",
       "      <td>17</td>\n",
       "      <td>M</td>\n",
       "      <td>9.158143</td>\n",
       "      <td>0.392095</td>\n",
       "      <td>8.866097</td>\n",
       "      <td>5.151993</td>\n",
       "      <td>5</td>\n",
       "      <td>0.409446</td>\n",
       "      <td>Moderate</td>\n",
       "      <td>Good</td>\n",
       "    </tr>\n",
       "    <tr>\n",
       "      <th>2</th>\n",
       "      <td>3</td>\n",
       "      <td>15</td>\n",
       "      <td>M</td>\n",
       "      <td>5.028755</td>\n",
       "      <td>0.520119</td>\n",
       "      <td>4.943095</td>\n",
       "      <td>9.209325</td>\n",
       "      <td>2</td>\n",
       "      <td>0.423837</td>\n",
       "      <td>Moderate</td>\n",
       "      <td>Poor</td>\n",
       "    </tr>\n",
       "    <tr>\n",
       "      <th>3</th>\n",
       "      <td>4</td>\n",
       "      <td>17</td>\n",
       "      <td>F</td>\n",
       "      <td>7.951103</td>\n",
       "      <td>1.022630</td>\n",
       "      <td>5.262773</td>\n",
       "      <td>9.823658</td>\n",
       "      <td>5</td>\n",
       "      <td>0.666021</td>\n",
       "      <td>Moderate</td>\n",
       "      <td>Average</td>\n",
       "    </tr>\n",
       "    <tr>\n",
       "      <th>4</th>\n",
       "      <td>5</td>\n",
       "      <td>17</td>\n",
       "      <td>F</td>\n",
       "      <td>1.357459</td>\n",
       "      <td>1.225462</td>\n",
       "      <td>6.196080</td>\n",
       "      <td>11.338990</td>\n",
       "      <td>5</td>\n",
       "      <td>0.928060</td>\n",
       "      <td>High</td>\n",
       "      <td>Poor</td>\n",
       "    </tr>\n",
       "  </tbody>\n",
       "</table>\n",
       "</div>"
      ],
      "text/plain": [
       "   User_ID  Age Gender  Social_Media_Hours  Exercise_Hours  Sleep_Hours  \\\n",
       "0        1   16      F            9.654486        2.458001     5.198926   \n",
       "1        2   17      M            9.158143        0.392095     8.866097   \n",
       "2        3   15      M            5.028755        0.520119     4.943095   \n",
       "3        4   17      F            7.951103        1.022630     5.262773   \n",
       "4        5   17      F            1.357459        1.225462     6.196080   \n",
       "\n",
       "   Screen_Time_Hours  Survey_Stress_Score  Wearable_Stress_Score  \\\n",
       "0           8.158189                    3               0.288962   \n",
       "1           5.151993                    5               0.409446   \n",
       "2           9.209325                    2               0.423837   \n",
       "3           9.823658                    5               0.666021   \n",
       "4          11.338990                    5               0.928060   \n",
       "\n",
       "  Support_System Academic_Performance  \n",
       "0       Moderate            Excellent  \n",
       "1       Moderate                 Good  \n",
       "2       Moderate                 Poor  \n",
       "3       Moderate              Average  \n",
       "4           High                 Poor  "
      ]
     },
     "execution_count": 1,
     "metadata": {},
     "output_type": "execute_result"
    }
   ],
   "source": [
    "import pandas as pd\n",
    "import pymongo\n",
    "\n",
    "df = pd.read_csv('data\\mental_health_analysis.csv')\n",
    "df.head()"
   ]
  },
  {
   "cell_type": "code",
   "execution_count": 2,
   "metadata": {},
   "outputs": [
    {
     "data": {
      "text/plain": [
       "User_ID                  0\n",
       "Age                      0\n",
       "Gender                   0\n",
       "Social_Media_Hours       0\n",
       "Exercise_Hours           0\n",
       "Sleep_Hours              0\n",
       "Screen_Time_Hours        0\n",
       "Survey_Stress_Score      0\n",
       "Wearable_Stress_Score    0\n",
       "Support_System           0\n",
       "Academic_Performance     0\n",
       "dtype: int64"
      ]
     },
     "execution_count": 2,
     "metadata": {},
     "output_type": "execute_result"
    }
   ],
   "source": [
    "df.isnull().sum()"
   ]
  },
  {
   "cell_type": "code",
   "execution_count": 3,
   "metadata": {},
   "outputs": [
    {
     "name": "stdout",
     "output_type": "stream",
     "text": [
      "<class 'pandas.core.frame.DataFrame'>\n",
      "RangeIndex: 5000 entries, 0 to 4999\n",
      "Data columns (total 11 columns):\n",
      " #   Column                 Non-Null Count  Dtype  \n",
      "---  ------                 --------------  -----  \n",
      " 0   User_ID                5000 non-null   int64  \n",
      " 1   Age                    5000 non-null   int64  \n",
      " 2   Gender                 5000 non-null   object \n",
      " 3   Social_Media_Hours     5000 non-null   float64\n",
      " 4   Exercise_Hours         5000 non-null   float64\n",
      " 5   Sleep_Hours            5000 non-null   float64\n",
      " 6   Screen_Time_Hours      5000 non-null   float64\n",
      " 7   Survey_Stress_Score    5000 non-null   int64  \n",
      " 8   Wearable_Stress_Score  5000 non-null   float64\n",
      " 9   Support_System         5000 non-null   object \n",
      " 10  Academic_Performance   5000 non-null   object \n",
      "dtypes: float64(5), int64(3), object(3)\n",
      "memory usage: 429.8+ KB\n"
     ]
    }
   ],
   "source": [
    "df.info()"
   ]
  },
  {
   "cell_type": "code",
   "execution_count": 4,
   "metadata": {},
   "outputs": [
    {
     "data": {
      "text/plain": [
       "array([16, 17, 15, 14, 18, 13], dtype=int64)"
      ]
     },
     "execution_count": 4,
     "metadata": {},
     "output_type": "execute_result"
    }
   ],
   "source": [
    "df['Age'].unique()"
   ]
  },
  {
   "cell_type": "code",
   "execution_count": 5,
   "metadata": {},
   "outputs": [
    {
     "data": {
      "text/plain": [
       "array(['F', 'M'], dtype=object)"
      ]
     },
     "execution_count": 5,
     "metadata": {},
     "output_type": "execute_result"
    }
   ],
   "source": [
    "\n",
    "df['Gender'].unique()"
   ]
  },
  {
   "cell_type": "code",
   "execution_count": 6,
   "metadata": {},
   "outputs": [
    {
     "data": {
      "text/plain": [
       "array([9.65448635, 9.15814348, 5.0287552 , ..., 3.44438288, 7.86652516,\n",
       "       3.3893622 ])"
      ]
     },
     "execution_count": 6,
     "metadata": {},
     "output_type": "execute_result"
    }
   ],
   "source": [
    "\n",
    "df['Social_Media_Hours'].unique()"
   ]
  },
  {
   "cell_type": "code",
   "execution_count": 7,
   "metadata": {},
   "outputs": [
    {
     "data": {
      "text/plain": [
       "array([2.45800126, 0.39209476, 0.52011947, ..., 2.87797171, 2.39583905,\n",
       "       1.37564631])"
      ]
     },
     "execution_count": 7,
     "metadata": {},
     "output_type": "execute_result"
    }
   ],
   "source": [
    "df['Exercise_Hours'].unique()"
   ]
  },
  {
   "cell_type": "code",
   "execution_count": 8,
   "metadata": {},
   "outputs": [
    {
     "data": {
      "text/plain": [
       "array([5.19892552, 8.86609666, 4.94309483, ..., 9.22772581, 4.31783065,\n",
       "       8.69317051])"
      ]
     },
     "execution_count": 8,
     "metadata": {},
     "output_type": "execute_result"
    }
   ],
   "source": [
    "\n",
    "df['Sleep_Hours'].unique()"
   ]
  },
  {
   "cell_type": "code",
   "execution_count": 9,
   "metadata": {},
   "outputs": [
    {
     "data": {
      "text/plain": [
       "array([ 8.158189  ,  5.15199347,  9.20932548, ...,  4.0593215 ,\n",
       "       10.65707606,  6.97758939])"
      ]
     },
     "execution_count": 9,
     "metadata": {},
     "output_type": "execute_result"
    }
   ],
   "source": [
    "df['Screen_Time_Hours'].unique()"
   ]
  },
  {
   "cell_type": "code",
   "execution_count": 10,
   "metadata": {},
   "outputs": [
    {
     "data": {
      "text/plain": [
       "array([3, 5, 2, 4, 1], dtype=int64)"
      ]
     },
     "execution_count": 10,
     "metadata": {},
     "output_type": "execute_result"
    }
   ],
   "source": [
    "df['Survey_Stress_Score'].unique()"
   ]
  },
  {
   "cell_type": "code",
   "execution_count": 11,
   "metadata": {},
   "outputs": [
    {
     "data": {
      "text/plain": [
       "array([0.28896225, 0.40944616, 0.42383749, ..., 0.00289332, 0.61206318,\n",
       "       0.95266248])"
      ]
     },
     "execution_count": 11,
     "metadata": {},
     "output_type": "execute_result"
    }
   ],
   "source": [
    "df['Wearable_Stress_Score'].unique()"
   ]
  },
  {
   "cell_type": "code",
   "execution_count": 12,
   "metadata": {},
   "outputs": [
    {
     "data": {
      "text/plain": [
       "array(['Moderate', 'High', 'Low'], dtype=object)"
      ]
     },
     "execution_count": 12,
     "metadata": {},
     "output_type": "execute_result"
    }
   ],
   "source": [
    "df['Support_System'].unique()"
   ]
  },
  {
   "cell_type": "code",
   "execution_count": 13,
   "metadata": {},
   "outputs": [
    {
     "data": {
      "text/plain": [
       "array(['Excellent', 'Good', 'Poor', 'Average'], dtype=object)"
      ]
     },
     "execution_count": 13,
     "metadata": {},
     "output_type": "execute_result"
    }
   ],
   "source": [
    "\n",
    "df['Academic_Performance'].unique()"
   ]
  },
  {
   "cell_type": "code",
   "execution_count": null,
   "metadata": {},
   "outputs": [],
   "source": []
  }
 ],
 "metadata": {
  "kernelspec": {
   "display_name": "Python 3",
   "language": "python",
   "name": "python3"
  },
  "language_info": {
   "codemirror_mode": {
    "name": "ipython",
    "version": 3
   },
   "file_extension": ".py",
   "mimetype": "text/x-python",
   "name": "python",
   "nbconvert_exporter": "python",
   "pygments_lexer": "ipython3",
   "version": "3.10.0"
  }
 },
 "nbformat": 4,
 "nbformat_minor": 2
}
